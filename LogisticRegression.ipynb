{
 "cells": [
  {
   "cell_type": "code",
   "execution_count": 5,
   "metadata": {
    "id": "m_I5pxeh8dh1",
    "colab": {
     "base_uri": "https://localhost:8080/"
    },
    "outputId": "1ecfc5f4-aa17-49cc-b5b1-70cd3565f018"
   },
   "outputs": [
    {
     "name": "stdout",
     "output_type": "stream",
     "text": [
      "Mounted at /content/gdrive\n"
     ]
    }
   ],
   "source": [
    "#import google drive files\n",
    "from google.colab import drive\n",
    "drive.mount('/content/gdrive')"
   ]
  },
  {
   "cell_type": "markdown",
   "metadata": {
    "id": "FZ0c7aM5tdBI"
   },
   "source": [
    ""
   ]
  },
  {
   "cell_type": "code",
   "execution_count": 12,
   "metadata": {
    "id": "zKK2I6zXIlke",
    "colab": {
     "base_uri": "https://localhost:8080/",
     "height": 222.0
    },
    "outputId": "a43deb27-f9ec-40e2-a8a6-1924cd18434d"
   },
   "outputs": [
    {
     "data": {
      "text/html": [
       "<div>\n",
       "<style scoped>\n",
       "    .dataframe tbody tr th:only-of-type {\n",
       "        vertical-align: middle;\n",
       "    }\n",
       "\n",
       "    .dataframe tbody tr th {\n",
       "        vertical-align: top;\n",
       "    }\n",
       "\n",
       "    .dataframe thead th {\n",
       "        text-align: right;\n",
       "    }\n",
       "</style>\n",
       "<table border=\"1\" class=\"dataframe\">\n",
       "  <thead>\n",
       "    <tr style=\"text-align: right;\">\n",
       "      <th></th>\n",
       "      <th>Column1</th>\n",
       "      <th>Column2</th>\n",
       "      <th>Column3</th>\n",
       "      <th>Column4</th>\n",
       "      <th>Column5</th>\n",
       "      <th>Column6</th>\n",
       "      <th>Column7</th>\n",
       "      <th>Column8</th>\n",
       "      <th>Column9</th>\n",
       "      <th>Column10</th>\n",
       "      <th>Column11</th>\n",
       "      <th>Column12</th>\n",
       "      <th>Column13</th>\n",
       "      <th>Column14</th>\n",
       "      <th>Column15</th>\n",
       "      <th>Column16</th>\n",
       "      <th>Column17</th>\n",
       "      <th>Column18</th>\n",
       "      <th>Column19</th>\n",
       "      <th>Column20</th>\n",
       "      <th>Column21</th>\n",
       "      <th>Column22</th>\n",
       "      <th>Column23</th>\n",
       "      <th>Column24</th>\n",
       "      <th>Column25</th>\n",
       "      <th>Column26</th>\n",
       "      <th>Column27</th>\n",
       "      <th>Column28</th>\n",
       "      <th>Column29</th>\n",
       "      <th>Column30</th>\n",
       "      <th>Column31</th>\n",
       "      <th>Column32</th>\n",
       "    </tr>\n",
       "  </thead>\n",
       "  <tbody>\n",
       "    <tr>\n",
       "      <th>0</th>\n",
       "      <td>842302</td>\n",
       "      <td>M</td>\n",
       "      <td>17.99</td>\n",
       "      <td>10.38</td>\n",
       "      <td>122.80</td>\n",
       "      <td>1001.0</td>\n",
       "      <td>0.11840</td>\n",
       "      <td>0.27760</td>\n",
       "      <td>0.3001</td>\n",
       "      <td>0.14710</td>\n",
       "      <td>0.2419</td>\n",
       "      <td>0.07871</td>\n",
       "      <td>1.0950</td>\n",
       "      <td>0.9053</td>\n",
       "      <td>8.589</td>\n",
       "      <td>153.40</td>\n",
       "      <td>0.006399</td>\n",
       "      <td>0.04904</td>\n",
       "      <td>0.05373</td>\n",
       "      <td>0.01587</td>\n",
       "      <td>0.03003</td>\n",
       "      <td>0.006193</td>\n",
       "      <td>25.38</td>\n",
       "      <td>17.33</td>\n",
       "      <td>184.60</td>\n",
       "      <td>2019.0</td>\n",
       "      <td>0.1622</td>\n",
       "      <td>0.6656</td>\n",
       "      <td>0.7119</td>\n",
       "      <td>0.2654</td>\n",
       "      <td>0.4601</td>\n",
       "      <td>0.11890</td>\n",
       "    </tr>\n",
       "    <tr>\n",
       "      <th>1</th>\n",
       "      <td>842517</td>\n",
       "      <td>M</td>\n",
       "      <td>20.57</td>\n",
       "      <td>17.77</td>\n",
       "      <td>132.90</td>\n",
       "      <td>1326.0</td>\n",
       "      <td>0.08474</td>\n",
       "      <td>0.07864</td>\n",
       "      <td>0.0869</td>\n",
       "      <td>0.07017</td>\n",
       "      <td>0.1812</td>\n",
       "      <td>0.05667</td>\n",
       "      <td>0.5435</td>\n",
       "      <td>0.7339</td>\n",
       "      <td>3.398</td>\n",
       "      <td>74.08</td>\n",
       "      <td>0.005225</td>\n",
       "      <td>0.01308</td>\n",
       "      <td>0.01860</td>\n",
       "      <td>0.01340</td>\n",
       "      <td>0.01389</td>\n",
       "      <td>0.003532</td>\n",
       "      <td>24.99</td>\n",
       "      <td>23.41</td>\n",
       "      <td>158.80</td>\n",
       "      <td>1956.0</td>\n",
       "      <td>0.1238</td>\n",
       "      <td>0.1866</td>\n",
       "      <td>0.2416</td>\n",
       "      <td>0.1860</td>\n",
       "      <td>0.2750</td>\n",
       "      <td>0.08902</td>\n",
       "    </tr>\n",
       "    <tr>\n",
       "      <th>2</th>\n",
       "      <td>84300903</td>\n",
       "      <td>M</td>\n",
       "      <td>19.69</td>\n",
       "      <td>21.25</td>\n",
       "      <td>130.00</td>\n",
       "      <td>1203.0</td>\n",
       "      <td>0.10960</td>\n",
       "      <td>0.15990</td>\n",
       "      <td>0.1974</td>\n",
       "      <td>0.12790</td>\n",
       "      <td>0.2069</td>\n",
       "      <td>0.05999</td>\n",
       "      <td>0.7456</td>\n",
       "      <td>0.7869</td>\n",
       "      <td>4.585</td>\n",
       "      <td>94.03</td>\n",
       "      <td>0.006150</td>\n",
       "      <td>0.04006</td>\n",
       "      <td>0.03832</td>\n",
       "      <td>0.02058</td>\n",
       "      <td>0.02250</td>\n",
       "      <td>0.004571</td>\n",
       "      <td>23.57</td>\n",
       "      <td>25.53</td>\n",
       "      <td>152.50</td>\n",
       "      <td>1709.0</td>\n",
       "      <td>0.1444</td>\n",
       "      <td>0.4245</td>\n",
       "      <td>0.4504</td>\n",
       "      <td>0.2430</td>\n",
       "      <td>0.3613</td>\n",
       "      <td>0.08758</td>\n",
       "    </tr>\n",
       "    <tr>\n",
       "      <th>3</th>\n",
       "      <td>84348301</td>\n",
       "      <td>M</td>\n",
       "      <td>11.42</td>\n",
       "      <td>20.38</td>\n",
       "      <td>77.58</td>\n",
       "      <td>386.1</td>\n",
       "      <td>0.14250</td>\n",
       "      <td>0.28390</td>\n",
       "      <td>0.2414</td>\n",
       "      <td>0.10520</td>\n",
       "      <td>0.2597</td>\n",
       "      <td>0.09744</td>\n",
       "      <td>0.4956</td>\n",
       "      <td>1.1560</td>\n",
       "      <td>3.445</td>\n",
       "      <td>27.23</td>\n",
       "      <td>0.009110</td>\n",
       "      <td>0.07458</td>\n",
       "      <td>0.05661</td>\n",
       "      <td>0.01867</td>\n",
       "      <td>0.05963</td>\n",
       "      <td>0.009208</td>\n",
       "      <td>14.91</td>\n",
       "      <td>26.50</td>\n",
       "      <td>98.87</td>\n",
       "      <td>567.7</td>\n",
       "      <td>0.2098</td>\n",
       "      <td>0.8663</td>\n",
       "      <td>0.6869</td>\n",
       "      <td>0.2575</td>\n",
       "      <td>0.6638</td>\n",
       "      <td>0.17300</td>\n",
       "    </tr>\n",
       "    <tr>\n",
       "      <th>4</th>\n",
       "      <td>84358402</td>\n",
       "      <td>M</td>\n",
       "      <td>20.29</td>\n",
       "      <td>14.34</td>\n",
       "      <td>135.10</td>\n",
       "      <td>1297.0</td>\n",
       "      <td>0.10030</td>\n",
       "      <td>0.13280</td>\n",
       "      <td>0.1980</td>\n",
       "      <td>0.10430</td>\n",
       "      <td>0.1809</td>\n",
       "      <td>0.05883</td>\n",
       "      <td>0.7572</td>\n",
       "      <td>0.7813</td>\n",
       "      <td>5.438</td>\n",
       "      <td>94.44</td>\n",
       "      <td>0.011490</td>\n",
       "      <td>0.02461</td>\n",
       "      <td>0.05688</td>\n",
       "      <td>0.01885</td>\n",
       "      <td>0.01756</td>\n",
       "      <td>0.005115</td>\n",
       "      <td>22.54</td>\n",
       "      <td>16.67</td>\n",
       "      <td>152.20</td>\n",
       "      <td>1575.0</td>\n",
       "      <td>0.1374</td>\n",
       "      <td>0.2050</td>\n",
       "      <td>0.4000</td>\n",
       "      <td>0.1625</td>\n",
       "      <td>0.2364</td>\n",
       "      <td>0.07678</td>\n",
       "    </tr>\n",
       "  </tbody>\n",
       "</table>\n",
       "</div>"
      ],
      "text/plain": [
       "    Column1 Column2  Column3  Column4  ...  Column29  Column30  Column31  Column32\n",
       "0    842302       M    17.99    10.38  ...    0.7119    0.2654    0.4601   0.11890\n",
       "1    842517       M    20.57    17.77  ...    0.2416    0.1860    0.2750   0.08902\n",
       "2  84300903       M    19.69    21.25  ...    0.4504    0.2430    0.3613   0.08758\n",
       "3  84348301       M    11.42    20.38  ...    0.6869    0.2575    0.6638   0.17300\n",
       "4  84358402       M    20.29    14.34  ...    0.4000    0.1625    0.2364   0.07678\n",
       "\n",
       "[5 rows x 32 columns]"
      ]
     },
     "execution_count": 12,
     "metadata": {
      "tags": []
     },
     "output_type": "execute_result"
    }
   ],
   "source": [
    "#display data\n",
    "import pandas as pd\n",
    "data = pd.read_csv(\"/content/gdrive/MyDrive/Colab Notebooks/BreastCancerPrediction_PR/breast-cancer-wisconsin.csv\")\n",
    "data.head()"
   ]
  },
  {
   "cell_type": "code",
   "execution_count": 33,
   "metadata": {
    "colab": {
     "base_uri": "https://localhost:8080/"
    },
    "id": "fd9VTbAzzN7v",
    "outputId": "2f6db4ca-2ff0-4879-a899-af823ec22cf9"
   },
   "outputs": [
    {
     "data": {
      "text/plain": [
       "Index([], dtype='object')"
      ]
     },
     "execution_count": 33,
     "metadata": {
      "tags": []
     },
     "output_type": "execute_result"
    }
   ],
   "source": [
    "#check missing values in data set\r\n",
    "data.columns[data.isnull().any()]"
   ]
  },
  {
   "cell_type": "code",
   "execution_count": 16,
   "metadata": {
    "id": "f_LhWPY2M-5D",
    "colab": {
     "base_uri": "https://localhost:8080/"
    },
    "outputId": "b37ebe65-26a5-4cb7-fa5b-8380e39fa210"
   },
   "outputs": [
    {
     "data": {
      "text/plain": [
       "0    M\n",
       "1    M\n",
       "2    M\n",
       "3    M\n",
       "4    M\n",
       "Name: Column2, dtype: object"
      ]
     },
     "execution_count": 16,
     "metadata": {
      "tags": []
     },
     "output_type": "execute_result"
    }
   ],
   "source": [
    "from sklearn.model_selection import train_test_split\r\n",
    "y=data.iloc[:, 1]\r\n",
    "y.head()\r\n"
   ]
  },
  {
   "cell_type": "code",
   "execution_count": 17,
   "metadata": {
    "colab": {
     "base_uri": "https://localhost:8080/",
     "height": 222.0
    },
    "id": "OfXOEy--xlTQ",
    "outputId": "993ddd50-b429-4609-8d5b-ec491214b727"
   },
   "outputs": [
    {
     "data": {
      "text/html": [
       "<div>\n",
       "<style scoped>\n",
       "    .dataframe tbody tr th:only-of-type {\n",
       "        vertical-align: middle;\n",
       "    }\n",
       "\n",
       "    .dataframe tbody tr th {\n",
       "        vertical-align: top;\n",
       "    }\n",
       "\n",
       "    .dataframe thead th {\n",
       "        text-align: right;\n",
       "    }\n",
       "</style>\n",
       "<table border=\"1\" class=\"dataframe\">\n",
       "  <thead>\n",
       "    <tr style=\"text-align: right;\">\n",
       "      <th></th>\n",
       "      <th>Column3</th>\n",
       "      <th>Column4</th>\n",
       "      <th>Column5</th>\n",
       "      <th>Column6</th>\n",
       "      <th>Column7</th>\n",
       "      <th>Column8</th>\n",
       "      <th>Column9</th>\n",
       "      <th>Column10</th>\n",
       "      <th>Column11</th>\n",
       "      <th>Column12</th>\n",
       "      <th>Column13</th>\n",
       "      <th>Column14</th>\n",
       "      <th>Column15</th>\n",
       "      <th>Column16</th>\n",
       "      <th>Column17</th>\n",
       "      <th>Column18</th>\n",
       "      <th>Column19</th>\n",
       "      <th>Column20</th>\n",
       "      <th>Column21</th>\n",
       "      <th>Column22</th>\n",
       "      <th>Column23</th>\n",
       "      <th>Column24</th>\n",
       "      <th>Column25</th>\n",
       "      <th>Column26</th>\n",
       "      <th>Column27</th>\n",
       "      <th>Column28</th>\n",
       "      <th>Column29</th>\n",
       "      <th>Column30</th>\n",
       "      <th>Column31</th>\n",
       "      <th>Column32</th>\n",
       "    </tr>\n",
       "  </thead>\n",
       "  <tbody>\n",
       "    <tr>\n",
       "      <th>0</th>\n",
       "      <td>17.99</td>\n",
       "      <td>10.38</td>\n",
       "      <td>122.80</td>\n",
       "      <td>1001.0</td>\n",
       "      <td>0.11840</td>\n",
       "      <td>0.27760</td>\n",
       "      <td>0.3001</td>\n",
       "      <td>0.14710</td>\n",
       "      <td>0.2419</td>\n",
       "      <td>0.07871</td>\n",
       "      <td>1.0950</td>\n",
       "      <td>0.9053</td>\n",
       "      <td>8.589</td>\n",
       "      <td>153.40</td>\n",
       "      <td>0.006399</td>\n",
       "      <td>0.04904</td>\n",
       "      <td>0.05373</td>\n",
       "      <td>0.01587</td>\n",
       "      <td>0.03003</td>\n",
       "      <td>0.006193</td>\n",
       "      <td>25.38</td>\n",
       "      <td>17.33</td>\n",
       "      <td>184.60</td>\n",
       "      <td>2019.0</td>\n",
       "      <td>0.1622</td>\n",
       "      <td>0.6656</td>\n",
       "      <td>0.7119</td>\n",
       "      <td>0.2654</td>\n",
       "      <td>0.4601</td>\n",
       "      <td>0.11890</td>\n",
       "    </tr>\n",
       "    <tr>\n",
       "      <th>1</th>\n",
       "      <td>20.57</td>\n",
       "      <td>17.77</td>\n",
       "      <td>132.90</td>\n",
       "      <td>1326.0</td>\n",
       "      <td>0.08474</td>\n",
       "      <td>0.07864</td>\n",
       "      <td>0.0869</td>\n",
       "      <td>0.07017</td>\n",
       "      <td>0.1812</td>\n",
       "      <td>0.05667</td>\n",
       "      <td>0.5435</td>\n",
       "      <td>0.7339</td>\n",
       "      <td>3.398</td>\n",
       "      <td>74.08</td>\n",
       "      <td>0.005225</td>\n",
       "      <td>0.01308</td>\n",
       "      <td>0.01860</td>\n",
       "      <td>0.01340</td>\n",
       "      <td>0.01389</td>\n",
       "      <td>0.003532</td>\n",
       "      <td>24.99</td>\n",
       "      <td>23.41</td>\n",
       "      <td>158.80</td>\n",
       "      <td>1956.0</td>\n",
       "      <td>0.1238</td>\n",
       "      <td>0.1866</td>\n",
       "      <td>0.2416</td>\n",
       "      <td>0.1860</td>\n",
       "      <td>0.2750</td>\n",
       "      <td>0.08902</td>\n",
       "    </tr>\n",
       "    <tr>\n",
       "      <th>2</th>\n",
       "      <td>19.69</td>\n",
       "      <td>21.25</td>\n",
       "      <td>130.00</td>\n",
       "      <td>1203.0</td>\n",
       "      <td>0.10960</td>\n",
       "      <td>0.15990</td>\n",
       "      <td>0.1974</td>\n",
       "      <td>0.12790</td>\n",
       "      <td>0.2069</td>\n",
       "      <td>0.05999</td>\n",
       "      <td>0.7456</td>\n",
       "      <td>0.7869</td>\n",
       "      <td>4.585</td>\n",
       "      <td>94.03</td>\n",
       "      <td>0.006150</td>\n",
       "      <td>0.04006</td>\n",
       "      <td>0.03832</td>\n",
       "      <td>0.02058</td>\n",
       "      <td>0.02250</td>\n",
       "      <td>0.004571</td>\n",
       "      <td>23.57</td>\n",
       "      <td>25.53</td>\n",
       "      <td>152.50</td>\n",
       "      <td>1709.0</td>\n",
       "      <td>0.1444</td>\n",
       "      <td>0.4245</td>\n",
       "      <td>0.4504</td>\n",
       "      <td>0.2430</td>\n",
       "      <td>0.3613</td>\n",
       "      <td>0.08758</td>\n",
       "    </tr>\n",
       "    <tr>\n",
       "      <th>3</th>\n",
       "      <td>11.42</td>\n",
       "      <td>20.38</td>\n",
       "      <td>77.58</td>\n",
       "      <td>386.1</td>\n",
       "      <td>0.14250</td>\n",
       "      <td>0.28390</td>\n",
       "      <td>0.2414</td>\n",
       "      <td>0.10520</td>\n",
       "      <td>0.2597</td>\n",
       "      <td>0.09744</td>\n",
       "      <td>0.4956</td>\n",
       "      <td>1.1560</td>\n",
       "      <td>3.445</td>\n",
       "      <td>27.23</td>\n",
       "      <td>0.009110</td>\n",
       "      <td>0.07458</td>\n",
       "      <td>0.05661</td>\n",
       "      <td>0.01867</td>\n",
       "      <td>0.05963</td>\n",
       "      <td>0.009208</td>\n",
       "      <td>14.91</td>\n",
       "      <td>26.50</td>\n",
       "      <td>98.87</td>\n",
       "      <td>567.7</td>\n",
       "      <td>0.2098</td>\n",
       "      <td>0.8663</td>\n",
       "      <td>0.6869</td>\n",
       "      <td>0.2575</td>\n",
       "      <td>0.6638</td>\n",
       "      <td>0.17300</td>\n",
       "    </tr>\n",
       "    <tr>\n",
       "      <th>4</th>\n",
       "      <td>20.29</td>\n",
       "      <td>14.34</td>\n",
       "      <td>135.10</td>\n",
       "      <td>1297.0</td>\n",
       "      <td>0.10030</td>\n",
       "      <td>0.13280</td>\n",
       "      <td>0.1980</td>\n",
       "      <td>0.10430</td>\n",
       "      <td>0.1809</td>\n",
       "      <td>0.05883</td>\n",
       "      <td>0.7572</td>\n",
       "      <td>0.7813</td>\n",
       "      <td>5.438</td>\n",
       "      <td>94.44</td>\n",
       "      <td>0.011490</td>\n",
       "      <td>0.02461</td>\n",
       "      <td>0.05688</td>\n",
       "      <td>0.01885</td>\n",
       "      <td>0.01756</td>\n",
       "      <td>0.005115</td>\n",
       "      <td>22.54</td>\n",
       "      <td>16.67</td>\n",
       "      <td>152.20</td>\n",
       "      <td>1575.0</td>\n",
       "      <td>0.1374</td>\n",
       "      <td>0.2050</td>\n",
       "      <td>0.4000</td>\n",
       "      <td>0.1625</td>\n",
       "      <td>0.2364</td>\n",
       "      <td>0.07678</td>\n",
       "    </tr>\n",
       "  </tbody>\n",
       "</table>\n",
       "</div>"
      ],
      "text/plain": [
       "   Column3  Column4  Column5  Column6  ...  Column29  Column30  Column31  Column32\n",
       "0    17.99    10.38   122.80   1001.0  ...    0.7119    0.2654    0.4601   0.11890\n",
       "1    20.57    17.77   132.90   1326.0  ...    0.2416    0.1860    0.2750   0.08902\n",
       "2    19.69    21.25   130.00   1203.0  ...    0.4504    0.2430    0.3613   0.08758\n",
       "3    11.42    20.38    77.58    386.1  ...    0.6869    0.2575    0.6638   0.17300\n",
       "4    20.29    14.34   135.10   1297.0  ...    0.4000    0.1625    0.2364   0.07678\n",
       "\n",
       "[5 rows x 30 columns]"
      ]
     },
     "execution_count": 17,
     "metadata": {
      "tags": []
     },
     "output_type": "execute_result"
    }
   ],
   "source": [
    "x = data.drop(data.columns[[0, 1]], axis=1)\r\n",
    "x.head()"
   ]
  },
  {
   "cell_type": "code",
   "execution_count": 18,
   "metadata": {
    "id": "thC5eA6hwK7R"
   },
   "outputs": [],
   "source": [
    "x_train, x_test, y_train, y_test = train_test_split(x, y, test_size=0.349, random_state=1)"
   ]
  },
  {
   "cell_type": "code",
   "execution_count": 19,
   "metadata": {
    "id": "4-R5grN2PNQQ",
    "colab": {
     "base_uri": "https://localhost:8080/",
     "height": 222.0
    },
    "outputId": "581c08fe-9074-46dc-d967-36097073899f"
   },
   "outputs": [
    {
     "data": {
      "text/html": [
       "<div>\n",
       "<style scoped>\n",
       "    .dataframe tbody tr th:only-of-type {\n",
       "        vertical-align: middle;\n",
       "    }\n",
       "\n",
       "    .dataframe tbody tr th {\n",
       "        vertical-align: top;\n",
       "    }\n",
       "\n",
       "    .dataframe thead th {\n",
       "        text-align: right;\n",
       "    }\n",
       "</style>\n",
       "<table border=\"1\" class=\"dataframe\">\n",
       "  <thead>\n",
       "    <tr style=\"text-align: right;\">\n",
       "      <th></th>\n",
       "      <th>Column3</th>\n",
       "      <th>Column4</th>\n",
       "      <th>Column5</th>\n",
       "      <th>Column6</th>\n",
       "      <th>Column7</th>\n",
       "      <th>Column8</th>\n",
       "      <th>Column9</th>\n",
       "      <th>Column10</th>\n",
       "      <th>Column11</th>\n",
       "      <th>Column12</th>\n",
       "      <th>Column13</th>\n",
       "      <th>Column14</th>\n",
       "      <th>Column15</th>\n",
       "      <th>Column16</th>\n",
       "      <th>Column17</th>\n",
       "      <th>Column18</th>\n",
       "      <th>Column19</th>\n",
       "      <th>Column20</th>\n",
       "      <th>Column21</th>\n",
       "      <th>Column22</th>\n",
       "      <th>Column23</th>\n",
       "      <th>Column24</th>\n",
       "      <th>Column25</th>\n",
       "      <th>Column26</th>\n",
       "      <th>Column27</th>\n",
       "      <th>Column28</th>\n",
       "      <th>Column29</th>\n",
       "      <th>Column30</th>\n",
       "      <th>Column31</th>\n",
       "      <th>Column32</th>\n",
       "    </tr>\n",
       "  </thead>\n",
       "  <tbody>\n",
       "    <tr>\n",
       "      <th>93</th>\n",
       "      <td>13.45</td>\n",
       "      <td>18.30</td>\n",
       "      <td>86.60</td>\n",
       "      <td>555.1</td>\n",
       "      <td>0.10220</td>\n",
       "      <td>0.08165</td>\n",
       "      <td>0.03974</td>\n",
       "      <td>0.02780</td>\n",
       "      <td>0.1638</td>\n",
       "      <td>0.05710</td>\n",
       "      <td>0.2950</td>\n",
       "      <td>1.3730</td>\n",
       "      <td>2.099</td>\n",
       "      <td>25.22</td>\n",
       "      <td>0.005884</td>\n",
       "      <td>0.01491</td>\n",
       "      <td>0.01872</td>\n",
       "      <td>0.009366</td>\n",
       "      <td>0.01884</td>\n",
       "      <td>0.001817</td>\n",
       "      <td>15.10</td>\n",
       "      <td>25.94</td>\n",
       "      <td>97.59</td>\n",
       "      <td>699.4</td>\n",
       "      <td>0.1339</td>\n",
       "      <td>0.1751</td>\n",
       "      <td>0.1381</td>\n",
       "      <td>0.07911</td>\n",
       "      <td>0.2678</td>\n",
       "      <td>0.06603</td>\n",
       "    </tr>\n",
       "    <tr>\n",
       "      <th>479</th>\n",
       "      <td>16.25</td>\n",
       "      <td>19.51</td>\n",
       "      <td>109.80</td>\n",
       "      <td>815.8</td>\n",
       "      <td>0.10260</td>\n",
       "      <td>0.18930</td>\n",
       "      <td>0.22360</td>\n",
       "      <td>0.09194</td>\n",
       "      <td>0.2151</td>\n",
       "      <td>0.06578</td>\n",
       "      <td>0.3147</td>\n",
       "      <td>0.9857</td>\n",
       "      <td>3.070</td>\n",
       "      <td>33.12</td>\n",
       "      <td>0.009197</td>\n",
       "      <td>0.05470</td>\n",
       "      <td>0.08079</td>\n",
       "      <td>0.022150</td>\n",
       "      <td>0.02773</td>\n",
       "      <td>0.006355</td>\n",
       "      <td>17.39</td>\n",
       "      <td>23.05</td>\n",
       "      <td>122.10</td>\n",
       "      <td>939.7</td>\n",
       "      <td>0.1377</td>\n",
       "      <td>0.4462</td>\n",
       "      <td>0.5897</td>\n",
       "      <td>0.17750</td>\n",
       "      <td>0.3318</td>\n",
       "      <td>0.09136</td>\n",
       "    </tr>\n",
       "    <tr>\n",
       "      <th>81</th>\n",
       "      <td>13.34</td>\n",
       "      <td>15.86</td>\n",
       "      <td>86.49</td>\n",
       "      <td>520.0</td>\n",
       "      <td>0.10780</td>\n",
       "      <td>0.15350</td>\n",
       "      <td>0.11690</td>\n",
       "      <td>0.06987</td>\n",
       "      <td>0.1942</td>\n",
       "      <td>0.06902</td>\n",
       "      <td>0.2860</td>\n",
       "      <td>1.0160</td>\n",
       "      <td>1.535</td>\n",
       "      <td>12.96</td>\n",
       "      <td>0.006794</td>\n",
       "      <td>0.03575</td>\n",
       "      <td>0.03980</td>\n",
       "      <td>0.013830</td>\n",
       "      <td>0.02134</td>\n",
       "      <td>0.004603</td>\n",
       "      <td>15.53</td>\n",
       "      <td>23.19</td>\n",
       "      <td>96.66</td>\n",
       "      <td>614.9</td>\n",
       "      <td>0.1536</td>\n",
       "      <td>0.4791</td>\n",
       "      <td>0.4858</td>\n",
       "      <td>0.17080</td>\n",
       "      <td>0.3527</td>\n",
       "      <td>0.10160</td>\n",
       "    </tr>\n",
       "    <tr>\n",
       "      <th>385</th>\n",
       "      <td>14.60</td>\n",
       "      <td>23.29</td>\n",
       "      <td>93.97</td>\n",
       "      <td>664.7</td>\n",
       "      <td>0.08682</td>\n",
       "      <td>0.06636</td>\n",
       "      <td>0.08390</td>\n",
       "      <td>0.05271</td>\n",
       "      <td>0.1627</td>\n",
       "      <td>0.05416</td>\n",
       "      <td>0.4157</td>\n",
       "      <td>1.6270</td>\n",
       "      <td>2.914</td>\n",
       "      <td>33.01</td>\n",
       "      <td>0.008312</td>\n",
       "      <td>0.01742</td>\n",
       "      <td>0.03389</td>\n",
       "      <td>0.015760</td>\n",
       "      <td>0.01740</td>\n",
       "      <td>0.002871</td>\n",
       "      <td>15.79</td>\n",
       "      <td>31.71</td>\n",
       "      <td>102.20</td>\n",
       "      <td>758.2</td>\n",
       "      <td>0.1312</td>\n",
       "      <td>0.1581</td>\n",
       "      <td>0.2675</td>\n",
       "      <td>0.13590</td>\n",
       "      <td>0.2477</td>\n",
       "      <td>0.06836</td>\n",
       "    </tr>\n",
       "    <tr>\n",
       "      <th>440</th>\n",
       "      <td>10.97</td>\n",
       "      <td>17.20</td>\n",
       "      <td>71.73</td>\n",
       "      <td>371.5</td>\n",
       "      <td>0.08915</td>\n",
       "      <td>0.11130</td>\n",
       "      <td>0.09457</td>\n",
       "      <td>0.03613</td>\n",
       "      <td>0.1489</td>\n",
       "      <td>0.06640</td>\n",
       "      <td>0.2574</td>\n",
       "      <td>1.3760</td>\n",
       "      <td>2.806</td>\n",
       "      <td>18.15</td>\n",
       "      <td>0.008565</td>\n",
       "      <td>0.04638</td>\n",
       "      <td>0.06430</td>\n",
       "      <td>0.017680</td>\n",
       "      <td>0.01516</td>\n",
       "      <td>0.004976</td>\n",
       "      <td>12.36</td>\n",
       "      <td>26.87</td>\n",
       "      <td>90.14</td>\n",
       "      <td>476.4</td>\n",
       "      <td>0.1391</td>\n",
       "      <td>0.4082</td>\n",
       "      <td>0.4779</td>\n",
       "      <td>0.15550</td>\n",
       "      <td>0.2540</td>\n",
       "      <td>0.09532</td>\n",
       "    </tr>\n",
       "  </tbody>\n",
       "</table>\n",
       "</div>"
      ],
      "text/plain": [
       "     Column3  Column4  Column5  Column6  ...  Column29  Column30  Column31  Column32\n",
       "93     13.45    18.30    86.60    555.1  ...    0.1381   0.07911    0.2678   0.06603\n",
       "479    16.25    19.51   109.80    815.8  ...    0.5897   0.17750    0.3318   0.09136\n",
       "81     13.34    15.86    86.49    520.0  ...    0.4858   0.17080    0.3527   0.10160\n",
       "385    14.60    23.29    93.97    664.7  ...    0.2675   0.13590    0.2477   0.06836\n",
       "440    10.97    17.20    71.73    371.5  ...    0.4779   0.15550    0.2540   0.09532\n",
       "\n",
       "[5 rows x 30 columns]"
      ]
     },
     "execution_count": 19,
     "metadata": {
      "tags": []
     },
     "output_type": "execute_result"
    }
   ],
   "source": [
    "x_train.head()"
   ]
  },
  {
   "cell_type": "code",
   "execution_count": 20,
   "metadata": {
    "id": "zaBe8hMMPSDU",
    "colab": {
     "base_uri": "https://localhost:8080/"
    },
    "outputId": "3c00c879-9afb-4104-a03f-b47fab008aad"
   },
   "outputs": [
    {
     "data": {
      "text/plain": [
       "93     B\n",
       "479    M\n",
       "81     B\n",
       "385    M\n",
       "440    B\n",
       "Name: Column2, dtype: object"
      ]
     },
     "execution_count": 20,
     "metadata": {
      "tags": []
     },
     "output_type": "execute_result"
    }
   ],
   "source": [
    "y_train.head()"
   ]
  },
  {
   "cell_type": "code",
   "execution_count": 21,
   "metadata": {
    "id": "HKCA_XTyNr9q"
   },
   "outputs": [],
   "source": [
    "from sklearn.linear_model import LogisticRegression"
   ]
  },
  {
   "cell_type": "code",
   "execution_count": 22,
   "metadata": {
    "id": "MOxn7W2GO9E0"
   },
   "outputs": [],
   "source": [
    "logModel= LogisticRegression()"
   ]
  },
  {
   "cell_type": "code",
   "execution_count": 23,
   "metadata": {
    "id": "9ZwPFGza5H8O",
    "colab": {
     "base_uri": "https://localhost:8080/"
    },
    "outputId": "1909bf9c-712e-476f-f95e-3b70203f27ee"
   },
   "outputs": [
    {
     "name": "stderr",
     "output_type": "stream",
     "text": [
      "/usr/local/lib/python3.6/dist-packages/sklearn/linear_model/_logistic.py:940: ConvergenceWarning: lbfgs failed to converge (status=1):\n",
      "STOP: TOTAL NO. of ITERATIONS REACHED LIMIT.\n",
      "\n",
      "Increase the number of iterations (max_iter) or scale the data as shown in:\n",
      "    https://scikit-learn.org/stable/modules/preprocessing.html\n",
      "Please also refer to the documentation for alternative solver options:\n",
      "    https://scikit-learn.org/stable/modules/linear_model.html#logistic-regression\n",
      "  extra_warning_msg=_LOGISTIC_SOLVER_CONVERGENCE_MSG)\n"
     ]
    },
    {
     "data": {
      "text/plain": [
       "LogisticRegression(C=1.0, class_weight=None, dual=False, fit_intercept=True,\n",
       "                   intercept_scaling=1, l1_ratio=None, max_iter=100,\n",
       "                   multi_class='auto', n_jobs=None, penalty='l2',\n",
       "                   random_state=None, solver='lbfgs', tol=0.0001, verbose=0,\n",
       "                   warm_start=False)"
      ]
     },
     "execution_count": 23,
     "metadata": {
      "tags": []
     },
     "output_type": "execute_result"
    }
   ],
   "source": [
    "logModel.fit(x,y)"
   ]
  },
  {
   "cell_type": "code",
   "execution_count": 24,
   "metadata": {
    "id": "dRX-RY7P1LVd"
   },
   "outputs": [],
   "source": [
    "predictions = logModel.predict(x_test)"
   ]
  },
  {
   "cell_type": "code",
   "execution_count": 25,
   "metadata": {
    "id": "tykrPSi47Vjz",
    "colab": {
     "base_uri": "https://localhost:8080/"
    },
    "outputId": "38ac3f7d-ae69-409b-f1e4-a011ec9d1f6f"
   },
   "outputs": [
    {
     "name": "stdout",
     "output_type": "stream",
     "text": [
      "['B' 'M' 'B' 'M' 'M' 'M' 'M' 'M' 'B' 'B' 'B' 'M' 'M' 'B' 'B' 'B' 'B' 'B'\n",
      " 'B' 'M' 'B' 'B' 'M' 'B' 'M' 'B' 'B' 'M' 'M' 'M' 'M' 'B' 'M' 'M' 'B' 'B'\n",
      " 'M' 'B' 'M' 'B' 'B' 'B' 'B' 'B' 'B' 'M' 'B' 'B' 'B' 'M' 'M' 'M' 'B' 'B'\n",
      " 'B' 'B' 'B' 'M' 'B' 'B' 'B' 'M' 'B' 'M' 'B' 'B' 'B' 'M' 'B' 'B' 'B' 'B'\n",
      " 'B' 'M' 'B' 'M' 'B' 'B' 'B' 'M' 'B' 'M' 'B' 'M' 'B' 'B' 'M' 'B' 'M' 'B'\n",
      " 'B' 'M' 'B' 'B' 'M' 'M' 'B' 'B' 'B' 'B' 'B' 'B' 'B' 'B' 'B' 'B' 'B' 'B'\n",
      " 'M' 'M' 'B' 'B' 'M' 'B' 'M' 'M' 'B' 'B' 'B' 'B' 'B' 'M' 'M' 'B' 'B' 'M'\n",
      " 'M' 'M' 'M' 'M' 'B' 'B' 'B' 'M' 'B' 'M' 'M' 'B' 'B' 'M' 'M' 'M' 'B' 'M'\n",
      " 'B' 'M' 'B' 'B' 'B' 'M' 'B' 'B' 'M' 'B' 'B' 'B' 'B' 'B' 'B' 'B' 'B' 'B'\n",
      " 'M' 'M' 'B' 'B' 'M' 'M' 'M' 'B' 'B' 'B' 'B' 'M' 'B' 'B' 'B' 'B' 'B' 'B'\n",
      " 'B' 'B' 'B' 'B' 'B' 'M' 'M' 'B' 'M' 'B' 'B' 'B' 'M' 'M' 'M' 'B' 'B' 'M'\n",
      " 'M']\n"
     ]
    }
   ],
   "source": [
    "print(predictions)"
   ]
  },
  {
   "cell_type": "code",
   "execution_count": null,
   "metadata": {
    "id": "RhdcOaH79N_t"
   },
   "outputs": [],
   "source": [
    "\n",
    "p = pd.DataFrame(predictions, columns=['predictions']).to_csv('/content/gdrive/My Drive/Colab Notebooks/prediction_new_10.csv')\n",
    "#open('/content/gdrive/My Drive/Colab Notebooks/predictions.txt', 'wb').write(results)"
   ]
  },
  {
   "cell_type": "code",
   "execution_count": null,
   "metadata": {
    "id": "t1k9ovm492Wv"
   },
   "outputs": [],
   "source": [
    "from google.colab import files\n",
    "files.download('/content/gdrive/My Drive/Colab Notebooks/prediction_new_10.csv')"
   ]
  },
  {
   "cell_type": "code",
   "execution_count": 26,
   "metadata": {
    "id": "aEYgYsWY1b1K"
   },
   "outputs": [],
   "source": [
    "from sklearn.metrics import classification_report"
   ]
  },
  {
   "cell_type": "code",
   "execution_count": 28,
   "metadata": {
    "id": "jLU9wG9g1j86",
    "colab": {
     "base_uri": "https://localhost:8080/",
     "height": 87.0
    },
    "outputId": "457a30c7-b1ad-401e-892e-bd5615f8569d"
   },
   "outputs": [
    {
     "data": {
      "text/plain": [
       "'              precision    recall  f1-score   support\\n\\n           B       0.96      0.94      0.95       129\\n           M       0.89      0.93      0.91        70\\n\\n    accuracy                           0.93       199\\n   macro avg       0.93      0.93      0.93       199\\nweighted avg       0.94      0.93      0.93       199\\n'"
      ]
     },
     "execution_count": 28,
     "metadata": {
      "tags": []
     },
     "output_type": "execute_result"
    }
   ],
   "source": [
    "classification_report(y_test,predictions)"
   ]
  },
  {
   "cell_type": "code",
   "execution_count": 29,
   "metadata": {
    "id": "StawQj6B1_CM"
   },
   "outputs": [],
   "source": [
    "from sklearn.metrics import confusion_matrix"
   ]
  },
  {
   "cell_type": "code",
   "execution_count": 30,
   "metadata": {
    "id": "ss4CD5182G5g",
    "colab": {
     "base_uri": "https://localhost:8080/"
    },
    "outputId": "a7f997eb-fce1-42f0-88e7-0ebdf07ebf85"
   },
   "outputs": [
    {
     "data": {
      "text/plain": [
       "array([[121,   8],\n",
       "       [  5,  65]])"
      ]
     },
     "execution_count": 30,
     "metadata": {
      "tags": []
     },
     "output_type": "execute_result"
    }
   ],
   "source": [
    "confusion_matrix(y_test,predictions)"
   ]
  },
  {
   "cell_type": "code",
   "execution_count": 31,
   "metadata": {
    "id": "oj75fZUF2y-M"
   },
   "outputs": [],
   "source": [
    "from sklearn.metrics import accuracy_score"
   ]
  },
  {
   "cell_type": "code",
   "execution_count": 32,
   "metadata": {
    "id": "GbPN3kUK22oG",
    "colab": {
     "base_uri": "https://localhost:8080/"
    },
    "outputId": "9e271293-a4fc-453f-fe56-d70b338a65a1"
   },
   "outputs": [
    {
     "data": {
      "text/plain": [
       "0.9346733668341709"
      ]
     },
     "execution_count": 32,
     "metadata": {
      "tags": []
     },
     "output_type": "execute_result"
    }
   ],
   "source": [
    "accuracy_score(y_test,predictions)"
   ]
  }
 ],
 "metadata": {
  "colab": {
   "name": "LogisticRegression.ipynb",
   "provenance": [],
   "collapsed_sections": []
  },
  "kernelspec": {
   "name": "python3",
   "display_name": "Python 3"
  }
 },
 "nbformat": 4,
 "nbformat_minor": 0
}
